{
 "cells": [
  {
   "cell_type": "code",
   "execution_count": 2,
   "id": "1c47a2af-ca41-4d86-b39f-fff804897e67",
   "metadata": {},
   "outputs": [
    {
     "name": "stdout",
     "output_type": "stream",
     "text": [
      "Requirement already satisfied: kafka-python in /opt/anaconda3/lib/python3.12/site-packages (2.1.4)\n",
      "Note: you may need to restart the kernel to use updated packages.\n"
     ]
    }
   ],
   "source": [
    "pip install kafka-python"
   ]
  },
  {
   "cell_type": "code",
   "execution_count": 1,
   "id": "e0451e31-1b4f-4507-8765-ba4b4342d853",
   "metadata": {},
   "outputs": [],
   "source": [
    "import pandas as pd\n",
    "from kafka import KafkaProducer\n",
    "from time import sleep\n",
    "from json import dumps\n",
    "import json\n",
    "\n"
   ]
  },
  {
   "cell_type": "code",
   "execution_count": 2,
   "id": "0aea0311-45c9-49f0-a751-c6a8d7f8924a",
   "metadata": {
    "scrolled": true
   },
   "outputs": [],
   "source": [
    "producer = KafkaProducer(bootstrap_servers=['18.191.170.67:9092'],api_version=(0,11,5),value_serializer= lambda x: dumps(x).encode('utf-8'))\n",
    "                        "
   ]
  },
  {
   "cell_type": "code",
   "execution_count": 3,
   "id": "5ba68840-3a5b-4fd4-8a00-91e2dcf81ca1",
   "metadata": {},
   "outputs": [
    {
     "data": {
      "text/plain": [
       "<kafka.producer.future.FutureRecordMetadata at 0x107fc98e0>"
      ]
     },
     "execution_count": 3,
     "metadata": {},
     "output_type": "execute_result"
    }
   ],
   "source": [
    "producer.send('demo-test',value ={'Hello':'Consumer'})\n"
   ]
  },
  {
   "cell_type": "code",
   "execution_count": 4,
   "id": "4f5552b6-8acb-4e55-8da9-f0cb19b10c4e",
   "metadata": {},
   "outputs": [],
   "source": [
    "data = pd.read_csv('data/indexProcessed.csv')"
   ]
  },
  {
   "cell_type": "code",
   "execution_count": 5,
   "id": "dc9b6073-c694-4374-879b-0aa5ee3216f0",
   "metadata": {},
   "outputs": [
    {
     "data": {
      "text/html": [
       "<div>\n",
       "<style scoped>\n",
       "    .dataframe tbody tr th:only-of-type {\n",
       "        vertical-align: middle;\n",
       "    }\n",
       "\n",
       "    .dataframe tbody tr th {\n",
       "        vertical-align: top;\n",
       "    }\n",
       "\n",
       "    .dataframe thead th {\n",
       "        text-align: right;\n",
       "    }\n",
       "</style>\n",
       "<table border=\"1\" class=\"dataframe\">\n",
       "  <thead>\n",
       "    <tr style=\"text-align: right;\">\n",
       "      <th></th>\n",
       "      <th>Index</th>\n",
       "      <th>Date</th>\n",
       "      <th>Open</th>\n",
       "      <th>High</th>\n",
       "      <th>Low</th>\n",
       "      <th>Close</th>\n",
       "      <th>AdjClose</th>\n",
       "      <th>Volume</th>\n",
       "      <th>CloseUSD</th>\n",
       "    </tr>\n",
       "  </thead>\n",
       "  <tbody>\n",
       "    <tr>\n",
       "      <th>0</th>\n",
       "      <td>HSI</td>\n",
       "      <td>31/12/86</td>\n",
       "      <td>2568.300049</td>\n",
       "      <td>2568.300049</td>\n",
       "      <td>2568.300049</td>\n",
       "      <td>2568.300049</td>\n",
       "      <td>2568.300049</td>\n",
       "      <td>0</td>\n",
       "      <td>333.879006</td>\n",
       "    </tr>\n",
       "    <tr>\n",
       "      <th>1</th>\n",
       "      <td>HSI</td>\n",
       "      <td>02/01/87</td>\n",
       "      <td>2540.100098</td>\n",
       "      <td>2540.100098</td>\n",
       "      <td>2540.100098</td>\n",
       "      <td>2540.100098</td>\n",
       "      <td>2540.100098</td>\n",
       "      <td>0</td>\n",
       "      <td>330.213013</td>\n",
       "    </tr>\n",
       "    <tr>\n",
       "      <th>2</th>\n",
       "      <td>HSI</td>\n",
       "      <td>05/01/87</td>\n",
       "      <td>2552.399902</td>\n",
       "      <td>2552.399902</td>\n",
       "      <td>2552.399902</td>\n",
       "      <td>2552.399902</td>\n",
       "      <td>2552.399902</td>\n",
       "      <td>0</td>\n",
       "      <td>331.811987</td>\n",
       "    </tr>\n",
       "    <tr>\n",
       "      <th>3</th>\n",
       "      <td>HSI</td>\n",
       "      <td>06/01/87</td>\n",
       "      <td>2583.899902</td>\n",
       "      <td>2583.899902</td>\n",
       "      <td>2583.899902</td>\n",
       "      <td>2583.899902</td>\n",
       "      <td>2583.899902</td>\n",
       "      <td>0</td>\n",
       "      <td>335.906987</td>\n",
       "    </tr>\n",
       "    <tr>\n",
       "      <th>4</th>\n",
       "      <td>HSI</td>\n",
       "      <td>07/01/87</td>\n",
       "      <td>2607.100098</td>\n",
       "      <td>2607.100098</td>\n",
       "      <td>2607.100098</td>\n",
       "      <td>2607.100098</td>\n",
       "      <td>2607.100098</td>\n",
       "      <td>0</td>\n",
       "      <td>338.923013</td>\n",
       "    </tr>\n",
       "  </tbody>\n",
       "</table>\n",
       "</div>"
      ],
      "text/plain": [
       "  Index      Date         Open         High          Low        Close  \\\n",
       "0   HSI  31/12/86  2568.300049  2568.300049  2568.300049  2568.300049   \n",
       "1   HSI  02/01/87  2540.100098  2540.100098  2540.100098  2540.100098   \n",
       "2   HSI  05/01/87  2552.399902  2552.399902  2552.399902  2552.399902   \n",
       "3   HSI  06/01/87  2583.899902  2583.899902  2583.899902  2583.899902   \n",
       "4   HSI  07/01/87  2607.100098  2607.100098  2607.100098  2607.100098   \n",
       "\n",
       "      AdjClose  Volume    CloseUSD  \n",
       "0  2568.300049       0  333.879006  \n",
       "1  2540.100098       0  330.213013  \n",
       "2  2552.399902       0  331.811987  \n",
       "3  2583.899902       0  335.906987  \n",
       "4  2607.100098       0  338.923013  "
      ]
     },
     "execution_count": 5,
     "metadata": {},
     "output_type": "execute_result"
    }
   ],
   "source": [
    "data.head()"
   ]
  },
  {
   "cell_type": "code",
   "execution_count": 6,
   "id": "9fb42d88-b79e-4b38-b0fc-916f7264a359",
   "metadata": {},
   "outputs": [],
   "source": [
    "producer.flush()"
   ]
  },
  {
   "cell_type": "code",
   "execution_count": 8,
   "id": "50599b3e-d22e-45f6-ace3-13ece0b14285",
   "metadata": {},
   "outputs": [
    {
     "name": "stdout",
     "output_type": "stream",
     "text": [
      "{'Index': 'NYA', 'Date': '30/07/10', 'Open': 6994.569824, 'High': 7024.27002, 'Low': 6910.759766, 'Close': 6998.990234, 'AdjClose': 6998.990234, 'Volume': 4006450000, 'CloseUSD': 6998.990234}\n",
      "{'Index': 'NYA', 'Date': '24/04/68', 'Open': 570.140015, 'High': 570.140015, 'Low': 570.140015, 'Close': 570.140015, 'AdjClose': 570.140015, 'Volume': 0, 'CloseUSD': 570.140015}\n",
      "{'Index': 'GSPTSE', 'Date': '29/06/89', 'Open': 3757.699951, 'High': 3758.199951, 'Low': 3742.699951, 'Close': 3743.5, 'AdjClose': 3733.993652, 'Volume': 28590000, 'CloseUSD': 3107.105}\n",
      "{'Index': '000001.SS', 'Date': '10/11/14', 'Open': 2436.62793, 'High': 2474.156006, 'Low': 2428.185059, 'Close': 2473.183105, 'AdjClose': 2473.183105, 'Volume': 300600, 'CloseUSD': 395.7092968}\n",
      "{'Index': '000001.SS', 'Date': '22/05/09', 'Open': 2595.988037, 'High': 2617.749023, 'Low': 2578.593018, 'Close': 2597.601074, 'AdjClose': 2597.601074, 'Volume': 99200, 'CloseUSD': 415.6161718}\n",
      "{'Index': 'HSI', 'Date': '19/04/17', 'Open': 23875.98047, 'High': 23893.14063, 'Low': 23723.86914, 'Close': 23825.88086, 'AdjClose': 23825.88086, 'Volume': 1568253100, 'CloseUSD': 3097.364512}\n",
      "{'Index': 'HSI', 'Date': '01/03/19', 'Open': 28716.59961, 'High': 28860.19922, 'Low': 28663.71094, 'Close': 28812.16992, 'AdjClose': 28812.16992, 'Volume': 1927040400, 'CloseUSD': 3745.58209}\n",
      "{'Index': 'NYA', 'Date': '18/05/18', 'Open': 12735.11035, 'High': 12740.26953, 'Low': 12700.53027, 'Close': 12717.41992, 'AdjClose': 12717.41992, 'Volume': 3368690000, 'CloseUSD': 12717.41992}\n",
      "{'Index': '000001.SS', 'Date': '07/08/20', 'Open': 3370.587891, 'High': 3374.133057, 'Low': 3307.712891, 'Close': 3354.034912, 'AdjClose': 3354.034912, 'Volume': 403900, 'CloseUSD': 536.6455859}\n",
      "{'Index': 'N225', 'Date': '12/09/00', 'Open': 16111.96973, 'High': 16133.19043, 'Low': 15885.32031, 'Close': 16040.23047, 'AdjClose': 16040.23047, 'Volume': 0, 'CloseUSD': 160.4023047}\n",
      "{'Index': 'NSEI', 'Date': '25/09/13', 'Open': 5901.549805, 'High': 5910.549805, 'Low': 5811.100098, 'Close': 5873.850098, 'AdjClose': 5873.850098, 'Volume': 200200, 'CloseUSD': 58.73850098}\n",
      "{'Index': 'GDAXI', 'Date': '21/02/00', 'Open': 7568.339844, 'High': 7590.529785, 'Low': 7447.709961, 'Close': 7590.529785, 'AdjClose': 7590.529785, 'Volume': 24404000, 'CloseUSD': 9260.446338}\n",
      "{'Index': 'IXIC', 'Date': '22/02/72', 'Open': 123.300003, 'High': 123.300003, 'Low': 123.300003, 'Close': 123.300003, 'AdjClose': 123.300003, 'Volume': 0, 'CloseUSD': 123.300003}\n",
      "{'Index': 'N100', 'Date': '29/07/02', 'Open': 563.349976, 'High': 594.570007, 'Low': 562.47998, 'Close': 594.570007, 'AdjClose': 594.570007, 'Volume': 0, 'CloseUSD': 725.3754085}\n",
      "{'Index': 'IXIC', 'Date': '09/05/79', 'Open': 130.339996, 'High': 130.339996, 'Low': 130.339996, 'Close': 130.339996, 'AdjClose': 130.339996, 'Volume': 0, 'CloseUSD': 130.339996}\n",
      "{'Index': 'N100', 'Date': '13/02/01', 'Open': 975.52002, 'High': 975.52002, 'Low': 975.52002, 'Close': 975.52002, 'AdjClose': 975.52002, 'Volume': 0, 'CloseUSD': 1190.134424}\n",
      "{'Index': 'HSI', 'Date': '18/05/09', 'Open': 16468.71094, 'High': 17062.49023, 'Low': 16334.36035, 'Close': 17022.91016, 'AdjClose': 17022.91016, 'Volume': 2397278400, 'CloseUSD': 2212.978321}\n",
      "{'Index': 'GSPTSE', 'Date': '21/10/98', 'Open': 5860.5, 'High': 5860.5, 'Low': 5809.700195, 'Close': 5848.399902, 'AdjClose': 5848.399902, 'Volume': 7099400000, 'CloseUSD': 4854.171919}\n",
      "{'Index': 'N100', 'Date': '05/04/17', 'Open': 983.780029, 'High': 986.929993, 'Low': 981.559998, 'Close': 982.099976, 'AdjClose': 982.099976, 'Volume': 0, 'CloseUSD': 1198.161971}\n",
      "{'Index': 'N100', 'Date': '01/06/06', 'Open': 841.51001, 'High': 846.119995, 'Low': 834.950012, 'Close': 845.25, 'AdjClose': 845.25, 'Volume': 261779200, 'CloseUSD': 1031.205}\n",
      "{'Index': '399001.SZ', 'Date': '28/12/06', 'Open': 6515.600098, 'High': 6585.52002, 'Low': 6405.299805, 'Close': 6436.290039, 'AdjClose': 6436.217773, 'Volume': 66500, 'CloseUSD': 1029.806406}\n",
      "{'Index': 'N225', 'Date': '05/01/89', 'Open': 30259.89063, 'High': 30397.50977, 'Low': 30082.81055, 'Close': 30183.78906, 'AdjClose': 30183.78906, 'Volume': 0, 'CloseUSD': 301.8378906}\n",
      "{'Index': 'GSPTSE', 'Date': '18/01/01', 'Open': 8882.200195, 'High': 8990.599609, 'Low': 8879.700195, 'Close': 8899.099609, 'AdjClose': 8899.099609, 'Volume': 13663190000, 'CloseUSD': 7386.252675}\n",
      "{'Index': 'N225', 'Date': '22/05/73', 'Open': 4675.27002, 'High': 4675.27002, 'Low': 4675.27002, 'Close': 4675.27002, 'AdjClose': 4675.27002, 'Volume': 0, 'CloseUSD': 46.7527002}\n",
      "{'Index': 'TWII', 'Date': '15/03/18', 'Open': 11039.59961, 'High': 11052.11035, 'Low': 11008.17969, 'Close': 11018.4502, 'AdjClose': 11018.4502, 'Volume': 2124400, 'CloseUSD': 440.738008}\n"
     ]
    },
    {
     "ename": "KeyboardInterrupt",
     "evalue": "",
     "output_type": "error",
     "traceback": [
      "\u001b[0;31m---------------------------------------------------------------------------\u001b[0m",
      "\u001b[0;31mKeyboardInterrupt\u001b[0m                         Traceback (most recent call last)",
      "Cell \u001b[0;32mIn[8], line 5\u001b[0m\n\u001b[1;32m      3\u001b[0m \u001b[38;5;28mprint\u001b[39m(dict_val)\n\u001b[1;32m      4\u001b[0m producer\u001b[38;5;241m.\u001b[39msend(\u001b[38;5;124m'\u001b[39m\u001b[38;5;124mdemo_test\u001b[39m\u001b[38;5;124m'\u001b[39m, value\u001b[38;5;241m=\u001b[39mdict_val)\n\u001b[0;32m----> 5\u001b[0m sleep(\u001b[38;5;241m1\u001b[39m)\n",
      "\u001b[0;31mKeyboardInterrupt\u001b[0m: "
     ]
    }
   ],
   "source": [
    "while True:\n",
    "    dict_val = data.sample(1).to_dict(orient=\"records\")[0]\n",
    "    print(dict_val)\n",
    "    producer.send('demo_test', value=dict_val)\n",
    "    sleep(1)"
   ]
  },
  {
   "cell_type": "code",
   "execution_count": null,
   "id": "9908cf28-babd-44cc-9677-88e689970a61",
   "metadata": {},
   "outputs": [],
   "source": []
  },
  {
   "cell_type": "code",
   "execution_count": null,
   "id": "431e83c5-3e53-4b29-9e03-38586224c35d",
   "metadata": {},
   "outputs": [],
   "source": []
  }
 ],
 "metadata": {
  "kernelspec": {
   "display_name": "Python 3 (ipykernel)",
   "language": "python",
   "name": "python3"
  },
  "language_info": {
   "codemirror_mode": {
    "name": "ipython",
    "version": 3
   },
   "file_extension": ".py",
   "mimetype": "text/x-python",
   "name": "python",
   "nbconvert_exporter": "python",
   "pygments_lexer": "ipython3",
   "version": "3.12.4"
  }
 },
 "nbformat": 4,
 "nbformat_minor": 5
}
